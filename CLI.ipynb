{
 "cells": [
  {
   "cell_type": "code",
   "execution_count": 2,
   "metadata": {},
   "outputs": [],
   "source": [
    "from iroha import Iroha, IrohaCrypto, IrohaGrpc\n",
    "from iroha.primitive_pb2 import *\n",
    "import ed25519\n",
    "\n",
    "net = IrohaGrpc('localhost:50051')\n",
    "admin = Iroha(\"admin@test\")\n"
   ]
  },
  {
   "cell_type": "code",
   "execution_count": null,
   "metadata": {},
   "outputs": [],
   "source": [
    "def create_domain(domain):\n",
    "    if domain == None:\n",
    "        return None\n",
    "    cmds = [\n",
    "        admin.command(\"CreateDomain\", domain_id=domain, default_role=\"admin\")\n",
    "    ]\n",
    "\n",
    "    tx = admin.transaction(cmds,creator_account=\"admin@test\")\n",
    "    IrohaCrypto.sign_transaction(tx, \"f101537e319568c765b2cc89698325604991dca57b9716b58016b253506cab70\")\n",
    "    net.send_tx(tx)\n",
    "    for status in net.tx_status_stream(tx):\n",
    "        print(status)\n",
    "    return tx"
   ]
  },
  {
   "cell_type": "code",
   "execution_count": 16,
   "metadata": {},
   "outputs": [
    {
     "name": "stdout",
     "output_type": "stream",
     "text": [
      "('ENOUGH_SIGNATURES_COLLECTED', 9, 0)\n",
      "('STATEFUL_VALIDATION_SUCCESS', 3, 0)\n",
      "('COMMITTED', 5, 0)\n"
     ]
    },
    {
     "data": {
      "text/plain": [
       "payload {\n",
       "  reduced_payload {\n",
       "    commands {\n",
       "      create_asset {\n",
       "        asset_name: \"tinycoin\"\n",
       "        domain_id: \"chain\"\n",
       "      }\n",
       "    }\n",
       "    creator_account_id: \"admin@test\"\n",
       "    created_time: 1646282999129\n",
       "    quorum: 1\n",
       "  }\n",
       "}\n",
       "signatures {\n",
       "  public_key: \"313a07e6384776ed95447710d15e59148473ccfc052a681317a72a69f2a49910\"\n",
       "  signature: \"e157a7812c7a8cf02ab2660c6d86a12ad1a11299f09fb45e8a032714cc9b3d8a6ea9b01e132c0993ff8119f87f310e81fd3f084842c297209249f3988e908409\"\n",
       "}"
      ]
     },
     "execution_count": 16,
     "metadata": {},
     "output_type": "execute_result"
    }
   ],
   "source": [
    "def create_asset(asset):\n",
    "    if asset == None:\n",
    "        return None\n",
    "    cmds = [\n",
    "        admin.command(\"CreateAsset\", asset_name=asset, domain_id=\"chain\", precision=0)\n",
    "    ]\n",
    "\n",
    "    tx = admin.transaction(cmds)\n",
    "    IrohaCrypto.sign_transaction(tx, \"f101537e319568c765b2cc89698325604991dca57b9716b58016b253506cab70\")\n",
    "    net.send_tx(tx)\n",
    "    for status in net.tx_status_stream(tx):\n",
    "        print(status)\n",
    "    return tx\n",
    "create_asset(\"tinycoin\")"
   ]
  },
  {
   "cell_type": "code",
   "execution_count": 21,
   "metadata": {},
   "outputs": [
    {
     "name": "stdout",
     "output_type": "stream",
     "text": [
      "('ENOUGH_SIGNATURES_COLLECTED', 9, 0)\n",
      "('STATEFUL_VALIDATION_SUCCESS', 3, 0)\n",
      "('COMMITTED', 5, 0)\n"
     ]
    },
    {
     "data": {
      "text/plain": [
       "payload {\n",
       "  reduced_payload {\n",
       "    commands {\n",
       "      add_asset_quantity {\n",
       "        asset_id: \"tinycoin#chain\"\n",
       "        amount: \"100\"\n",
       "      }\n",
       "    }\n",
       "    creator_account_id: \"admin@test\"\n",
       "    created_time: 1646284036348\n",
       "    quorum: 1\n",
       "  }\n",
       "}\n",
       "signatures {\n",
       "  public_key: \"313a07e6384776ed95447710d15e59148473ccfc052a681317a72a69f2a49910\"\n",
       "  signature: \"ce9956272bc8ec9add58c32f042a995e89d70ac2196ffb366f1bf6c20bdc621d984b5f7cc39691fdc88669dee77bc1b911d4f5130fa3ab52fb845e004139fa01\"\n",
       "}"
      ]
     },
     "execution_count": 21,
     "metadata": {},
     "output_type": "execute_result"
    }
   ],
   "source": [
    "def add_asset_quantity():\n",
    "    cmds = [\n",
    "        admin.command(\"AddAssetQuantity\", asset_id=\"tinycoin#chain\", amount=\"100\")\n",
    "    ]\n",
    "\n",
    "    tx = admin.transaction(cmds)\n",
    "    IrohaCrypto.sign_transaction(tx, \"f101537e319568c765b2cc89698325604991dca57b9716b58016b253506cab70\")\n",
    "    net.send_tx(tx)\n",
    "    for status in net.tx_status_stream(tx):\n",
    "        print(status)\n",
    "    return tx\n",
    "add_asset_quantity()"
   ]
  },
  {
   "cell_type": "code",
   "execution_count": 30,
   "metadata": {},
   "outputs": [
    {
     "name": "stdout",
     "output_type": "stream",
     "text": [
      "Account assets:\n",
      "Asset id = tinycoin#chain, balance = 90\n",
      "Bob's assets: \n",
      "Asset id = tinycoin#chain, balance = 10\n"
     ]
    }
   ],
   "source": [
    "def account_assets(account_id):\n",
    "    query = admin.query('GetAccountAssets', account_id=account_id)\n",
    "    IrohaCrypto.sign_query(query, \"f101537e319568c765b2cc89698325604991dca57b9716b58016b253506cab70\")\n",
    "\n",
    "    response = net.send_query(query)\n",
    "    data = response.account_assets_response.account_assets\n",
    "    for asset in data:\n",
    "        print('Asset id = {}, balance = {}'.format(\n",
    "            asset.asset_id, asset.balance))\n",
    "print(\"Account assets:\")\n",
    "account_assets(\"admin@test\")\n",
    "print(\"Bob's assets: \")\n",
    "account_assets(\"bob@test\")"
   ]
  },
  {
   "cell_type": "code",
   "execution_count": 29,
   "metadata": {},
   "outputs": [
    {
     "name": "stdout",
     "output_type": "stream",
     "text": [
      "('ENOUGH_SIGNATURES_COLLECTED', 9, 0)\n",
      "('STATEFUL_VALIDATION_SUCCESS', 3, 0)\n",
      "('COMMITTED', 5, 0)\n"
     ]
    },
    {
     "data": {
      "text/plain": [
       "payload {\n",
       "  reduced_payload {\n",
       "    commands {\n",
       "      transfer_asset {\n",
       "        src_account_id: \"admin@test\"\n",
       "        dest_account_id: \"bob@test\"\n",
       "        asset_id: \"tinycoin#chain\"\n",
       "        amount: \"10\"\n",
       "      }\n",
       "    }\n",
       "    creator_account_id: \"admin@test\"\n",
       "    created_time: 1646284734980\n",
       "    quorum: 1\n",
       "  }\n",
       "}\n",
       "signatures {\n",
       "  public_key: \"313a07e6384776ed95447710d15e59148473ccfc052a681317a72a69f2a49910\"\n",
       "  signature: \"cc531f305bb8e4e1d0d6ea222b2ecffc9ca85c289c58b649cfead8dece89652b16fc92f47cb9f0c22f0afe8e1c74afa82fe966a1845827f3a002ea2e9c22ea01\"\n",
       "}"
      ]
     },
     "execution_count": 29,
     "metadata": {},
     "output_type": "execute_result"
    }
   ],
   "source": [
    "def transfer_assets(account_id, dest_account_id, asset_id, amount):\n",
    "    cmds = [\n",
    "        admin.command('TransferAsset', src_account_id=account_id, dest_account_id=dest_account_id, asset_id=asset_id, amount=amount)\n",
    "    ]\n",
    "\n",
    "    tx = admin.transaction(cmds)\n",
    "    IrohaCrypto.sign_transaction(tx, \"f101537e319568c765b2cc89698325604991dca57b9716b58016b253506cab70\")\n",
    "    net.send_tx(tx)\n",
    "    for status in net.tx_status_stream(tx):\n",
    "        print(status)\n",
    "    return tx\n",
    "transfer_assets(\"admin@test\", \"bob@test\", \"tinycoin#chain\", \"10\")"
   ]
  },
  {
   "cell_type": "code",
   "execution_count": null,
   "metadata": {},
   "outputs": [],
   "source": []
  }
 ],
 "metadata": {
  "interpreter": {
   "hash": "aee8b7b246df8f9039afb4144a1f6fd8d2ca17a180786b69acc140d282b71a49"
  },
  "kernelspec": {
   "display_name": "Python 3.8.5 64-bit",
   "language": "python",
   "name": "python3"
  },
  "language_info": {
   "codemirror_mode": {
    "name": "ipython",
    "version": 3
   },
   "file_extension": ".py",
   "mimetype": "text/x-python",
   "name": "python",
   "nbconvert_exporter": "python",
   "pygments_lexer": "ipython3",
   "version": "3.8.5"
  },
  "orig_nbformat": 4
 },
 "nbformat": 4,
 "nbformat_minor": 2
}
