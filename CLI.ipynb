{
 "cells": [
  {
   "cell_type": "code",
   "execution_count": 1,
   "metadata": {},
   "outputs": [],
   "source": [
    "from iroha import Iroha, IrohaCrypto, IrohaGrpc\n",
    "from iroha.primitive_pb2 import *\n",
    "import ed25519\n",
    "\n",
    "net = IrohaGrpc('localhost:50051')\n",
    "admin = Iroha(\"admin@test\")\n"
   ]
  },
  {
   "cell_type": "code",
   "execution_count": 3,
   "metadata": {},
   "outputs": [],
   "source": [
    "def create_domain(domain):\n",
    "    if domain == None:\n",
    "        return None\n",
    "    cmds = [\n",
    "        admin.command(\"CreateDomain\", domain_id=domain, default_role=\"admin\")\n",
    "    ]\n",
    "\n",
    "    tx = admin.transaction(cmds,creator_account=\"admin@test\")\n",
    "    IrohaCrypto.sign_transaction(tx, \"f101537e319568c765b2cc89698325604991dca57b9716b58016b253506cab70\")\n",
    "    net.send_tx(tx)\n",
    "    for status in net.tx_status_stream(tx):\n",
    "        print(status)\n",
    "        print(\"\\n\")\n",
    "    return tx"
   ]
  },
  {
   "cell_type": "code",
   "execution_count": 4,
   "metadata": {},
   "outputs": [],
   "source": [
    "def create_asset(asset):\n",
    "    if asset == None:\n",
    "        return None\n",
    "    cmds = [\n",
    "        admin.command(\"CreateAsset\", asset_name=asset, domain_id=\"chain\", precision=0)\n",
    "    ]\n",
    "\n",
    "    tx = admin.transaction(cmds)\n",
    "    IrohaCrypto.sign_transaction(tx, \"f101537e319568c765b2cc89698325604991dca57b9716b58016b253506cab70\")\n",
    "    net.send_tx(tx)\n",
    "    for status in net.tx_status_stream(tx):\n",
    "        print(status)\n",
    "        print(\"\\n\")\n",
    "    return tx"
   ]
  },
  {
   "cell_type": "code",
   "execution_count": 5,
   "metadata": {},
   "outputs": [],
   "source": [
    "def add_asset_quantity(asset_name,amount):\n",
    "    cmds = [\n",
    "        admin.command(\"AddAssetQuantity\", asset_id=f\"{asset_name}#chain\", amount=f\"{amount}\")\n",
    "    ]\n",
    "\n",
    "    tx = admin.transaction(cmds)\n",
    "    IrohaCrypto.sign_transaction(tx, \"f101537e319568c765b2cc89698325604991dca57b9716b58016b253506cab70\")\n",
    "    net.send_tx(tx)\n",
    "    for status in net.tx_status_stream(tx):\n",
    "        print(status)\n",
    "        print(\"\\n\")\n",
    "    return tx"
   ]
  },
  {
   "cell_type": "code",
   "execution_count": 6,
   "metadata": {},
   "outputs": [],
   "source": [
    "def account_assets(account_id):\n",
    "    query = admin.query('GetAccountAssets', account_id=account_id)\n",
    "    IrohaCrypto.sign_query(query, \"f101537e319568c765b2cc89698325604991dca57b9716b58016b253506cab70\")\n",
    "\n",
    "    response = net.send_query(query)\n",
    "    data = response.account_assets_response.account_assets\n",
    "    for asset in data:\n",
    "        print('Asset id = {}, balance = {}'.format(\n",
    "            asset.asset_id, asset.balance))"
   ]
  },
  {
   "cell_type": "code",
   "execution_count": null,
   "metadata": {},
   "outputs": [],
   "source": [
    "def create_account(account_name):\n",
    "# Creating a key pair\n",
    "   signing_key, verifying_key = ed25519.create_keypair()\n",
    "\n",
    "   # Save the created key pair\n",
    "   open(\"iroha@test.prib\",\"wb\").write(signing_key.to_ascii(encoding=\"hex\"))\n",
    "   open(\"iroha@test.pub\",\"wb\").write(verifying_key.to_ascii(encoding=\"hex\"))\n",
    "\n",
    "   # Convert from binary to hexadecimal\n",
    "   vkey_hex = verifying_key.to_ascii(encoding=\"hex\")\n",
    "\n",
    "   # Creating a Transaction\n",
    "   transfer_tx = admin.transaction(\n",
    "   [admin.command(\n",
    "      'CreateAccount',\n",
    "      account_name = account_name,\n",
    "      domain_id = 'test',\n",
    "      public_key = vkey_hex\n",
    "   )]\n",
    "   )\n",
    "\n",
    "   # Transaction signature\n",
    "   IrohaCrypto.sign_transaction(transfer_tx,\"f101537e319568c765b2cc89698325604991dca57b9716b58016b253506cab70\")\n",
    "\n",
    "   # Send Transaction\n",
    "   net.send_tx(transfer_tx)\n",
    "\n",
    "   # Check the result\n",
    "   for status in net.tx_status_stream(transfer_tx):\n",
    "      print(status)\n",
    "      print(\"\\n\")"
   ]
  },
  {
   "cell_type": "code",
   "execution_count": 7,
   "metadata": {},
   "outputs": [],
   "source": [
    "def transfer_assets(account_id, dest_account_id, asset_id, amount):\n",
    "    cmds = [\n",
    "        admin.command('TransferAsset', src_account_id=account_id, dest_account_id=dest_account_id, asset_id=asset_id, amount=amount)\n",
    "    ]\n",
    "\n",
    "    tx = admin.transaction(cmds)\n",
    "    IrohaCrypto.sign_transaction(tx, \"f101537e319568c765b2cc89698325604991dca57b9716b58016b253506cab70\")\n",
    "    net.send_tx(tx)\n",
    "    for status in net.tx_status_stream(tx):\n",
    "        print(status)\n",
    "        print(\"\\n\")\n",
    "    return tx"
   ]
  },
  {
   "cell_type": "code",
   "execution_count": 8,
   "metadata": {},
   "outputs": [
    {
     "name": "stdout",
     "output_type": "stream",
     "text": [
      "Choose option: \n",
      "    1. Create asset\n",
      "    2. Add asset quantity\n",
      "    3. Account assets\n",
      "    4. Transfer assets\n",
      "    5. Exit\n",
      "Asset id = tinycoin#chain, balance = 80\n",
      "Choose option: \n",
      "    1. Create asset\n",
      "    2. Add asset quantity\n",
      "    3. Account assets\n",
      "    4. Transfer assets\n",
      "    5. Exit\n",
      "Invalid option\n",
      "Choose option: \n",
      "    1. Create asset\n",
      "    2. Add asset quantity\n",
      "    3. Account assets\n",
      "    4. Transfer assets\n",
      "    5. Exit\n",
      "Invalid option\n",
      "Choose option: \n",
      "    1. Create asset\n",
      "    2. Add asset quantity\n",
      "    3. Account assets\n",
      "    4. Transfer assets\n",
      "    5. Exit\n"
     ]
    }
   ],
   "source": []
  },
  {
   "cell_type": "code",
   "execution_count": null,
   "metadata": {},
   "outputs": [],
   "source": []
  }
 ],
 "metadata": {
  "interpreter": {
   "hash": "aee8b7b246df8f9039afb4144a1f6fd8d2ca17a180786b69acc140d282b71a49"
  },
  "kernelspec": {
   "display_name": "Python 3.8.5 64-bit",
   "language": "python",
   "name": "python3"
  },
  "language_info": {
   "codemirror_mode": {
    "name": "ipython",
    "version": 3
   },
   "file_extension": ".py",
   "mimetype": "text/x-python",
   "name": "python",
   "nbconvert_exporter": "python",
   "pygments_lexer": "ipython3",
   "version": "3.8.5"
  },
  "orig_nbformat": 4
 },
 "nbformat": 4,
 "nbformat_minor": 2
}
