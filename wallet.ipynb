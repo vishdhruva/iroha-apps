{
 "cells": [
  {
   "cell_type": "code",
   "execution_count": 43,
   "metadata": {},
   "outputs": [],
   "source": [
    "from iroha import Iroha, IrohaCrypto, IrohaGrpc, primitive_pb2\n",
    "import ed25519\n",
    "\n",
    "# Connection information to iroha\n",
    "net = IrohaGrpc(\"127.0.0.1:50051\")\n",
    "admin = Iroha(\"admin@test\")"
   ]
  },
  {
   "cell_type": "code",
   "execution_count": 46,
   "metadata": {},
   "outputs": [
    {
     "name": "stdout",
     "output_type": "stream",
     "text": [
      "('ENOUGH_SIGNATURES_COLLECTED', 9, 0)\n",
      "('STATEFUL_VALIDATION_SUCCESS', 3, 0)\n",
      "('COMMITTED', 5, 0)\n"
     ]
    }
   ],
   "source": [
    "\n",
    "\n",
    "# Creating a key pair\n",
    "signing_key, verifying_key = ed25519.create_keypair()\n",
    "\n",
    "# Save the created key pair\n",
    "open(\"iroha@test.prib\",\"wb\").write(signing_key.to_ascii(encoding=\"hex\"))\n",
    "open(\"iroha@test.pub\",\"wb\").write(verifying_key.to_ascii(encoding=\"hex\"))\n",
    "\n",
    "# Convert from binary to hexadecimal\n",
    "vkey_hex = verifying_key.to_ascii(encoding=\"hex\")\n",
    "\n",
    "# Creating a Transaction\n",
    "transfer_tx = admin.transaction(\n",
    " [admin.command(\n",
    "    'CreateAccount',\n",
    "    account_name ='bob',\n",
    "    domain_id = 'test',\n",
    "    public_key = vkey_hex\n",
    " )]\n",
    ")\n",
    "\n",
    "# Transaction signature\n",
    "IrohaCrypto.sign_transaction(transfer_tx,\"f101537e319568c765b2cc89698325604991dca57b9716b58016b253506cab70\")\n",
    "\n",
    "# Send Transaction\n",
    "net.send_tx(transfer_tx)\n",
    "\n",
    "# Check the result\n",
    "for status in net.tx_status_stream(transfer_tx):\n",
    "    print(status)"
   ]
  },
  {
   "cell_type": "code",
   "execution_count": 47,
   "metadata": {},
   "outputs": [
    {
     "name": "stdout",
     "output_type": "stream",
     "text": [
      "account_response {\n",
      "  account {\n",
      "    account_id: \"bob@test\"\n",
      "    domain_id: \"test\"\n",
      "    quorum: 1\n",
      "    json_data: \"{}\"\n",
      "  }\n",
      "  account_roles: \"user\"\n",
      "}\n",
      "query_hash: \"177d679398f8fef70804e0d6963639b6b16df6a5e447372464d3a6a9f8f4b81f\"\n",
      "\n"
     ]
    }
   ],
   "source": [
    "\n",
    "get_block_query = admin.query(\n",
    "        'GetAccount',\n",
    "        account_id = 'bob@test'  \n",
    ")\n",
    "\n",
    "# Sign Query\n",
    "IrohaCrypto.sign_query(get_block_query, \"f101537e319568c765b2cc89698325604991dca57b9716b58016b253506cab70\")\n",
    "\n",
    "# Send Query\n",
    "response = net.send_query(get_block_query)\n",
    "\n",
    "# Response output\n",
    "print(response)\n",
    "    "
   ]
  },
  {
   "cell_type": "code",
   "execution_count": null,
   "metadata": {},
   "outputs": [],
   "source": [
    "iroha = Iroha(\"iroha@test\")\n",
    "# add peer to network\n",
    "def add_peer():\n",
    "    peer1 = primitive_pb2.Peer()\n",
    "    peer1.address = '192.168.10.49:50051'\n",
    "    peer1.peer_key = '2da10813a07da65746f86f8de3ab2640c87c8cc1af11321f37320561535e8317'\n",
    "    tx = iroha.transaction([\n",
    "            iroha.command('AddPeer', peer=peer1)\n",
    "    ], creator_account=\"admin@test\", quorum=1)\n",
    "\n",
    "    IrohaCrypto.sign_transaction(tx, \"f101537e319568c765b2cc89698325604991dca57b9716b58016b253506cab70\")\n",
    "    net.send_tx(tx)\n",
    "    for status in net.tx_status_stream(tx):\n",
    "        print(status)\n",
    "add_peer()"
   ]
  },
  {
   "cell_type": "code",
   "execution_count": 21,
   "metadata": {},
   "outputs": [
    {
     "name": "stdout",
     "output_type": "stream",
     "text": [
      "Help on Iroha in module iroha.iroha object:\n",
      "\n",
      "class Iroha(builtins.object)\n",
      " |  Iroha(creator_account=None)\n",
      " |  \n",
      " |  Collection of factory methods for transactions and queries creation\n",
      " |  \n",
      " |  Methods defined here:\n",
      " |  \n",
      " |  __init__(self, creator_account=None)\n",
      " |      Initialize self.  See help(type(self)) for accurate signature.\n",
      " |  \n",
      " |  blocks_query(self, counter=1, creator_account=None, created_time=None)\n",
      " |      Creates a protobuf query for a blocks stream\n",
      " |      :param counter: query counter, should be incremented for each new query\n",
      " |      :param creator_account: account id of query creator\n",
      " |      :param created_time: query creation timestamp in milliseconds\n",
      " |      :return: a proto blocks query\n",
      " |  \n",
      " |  query(self, name, counter=1, creator_account=None, created_time=None, page_size=None, first_tx_hash=None, **kwargs)\n",
      " |      Creates a protobuf query with specified set of entities\n",
      " |      :param name: CamelCased name of query to be executed\n",
      " |      :param counter: query counter, should be incremented for each new query\n",
      " |      :param creator_account: account id of query creator\n",
      " |      :param created_time: query creation timestamp in milliseconds\n",
      " |      :param page_size: a non-zero positive number, size of result rowset for queries with pagination\n",
      " |      :param first_tx_hash: optional hash of a transaction that will be the beginning of the next page\n",
      " |      :param kwargs: query arguments as they defined in schema\n",
      " |      :return: a proto query\n",
      " |  \n",
      " |  transaction(self, commands, quorum=1, creator_account=None, created_time=None)\n",
      " |      Creates a protobuf transaction with specified set of entities\n",
      " |      :param commands: list of commands generated via command factory method\n",
      " |      :param quorum: required number of signatures, 1 is default\n",
      " |      :param creator_account: id of transaction creator account\n",
      " |      :param created_time: transaction creation timestamp in milliseconds\n",
      " |      :return: a proto transaction\n",
      " |  \n",
      " |  ----------------------------------------------------------------------\n",
      " |  Static methods defined here:\n",
      " |  \n",
      " |  batch(transactions, atomic=True)\n",
      " |      Tie transactions to be a single batch. All of them will have a common batch meta.\n",
      " |      :param transactions: list of transactions to be tied into a batch\n",
      " |      :param atomic: boolean - prescribes type of batch: ATOMIC if true, otherwise - ORDERED\n",
      " |      :return: nothing, source transactions will be modified\n",
      " |  \n",
      " |  command(name, **kwargs)\n",
      " |      Creates a protobuf command to be inserted into a transaction\n",
      " |      :param name: CamelCased name of command\n",
      " |      :param kwargs: command arguments as they defined in schema\n",
      " |      :return: a proto command\n",
      " |      \n",
      " |      Usage example:\n",
      " |      cmd = Iroha.command('CreateDomain', domain_id='test', default_role='user')\n",
      " |  \n",
      " |  now()\n",
      " |      Current timestamp in milliseconds\n",
      " |  \n",
      " |  ----------------------------------------------------------------------\n",
      " |  Data descriptors defined here:\n",
      " |  \n",
      " |  __dict__\n",
      " |      dictionary for instance variables (if defined)\n",
      " |  \n",
      " |  __weakref__\n",
      " |      list of weak references to the object (if defined)\n",
      "\n"
     ]
    }
   ],
   "source": [
    "#iroha.command('AddPeer', peer=peer)\n",
    "help(iroha)"
   ]
  },
  {
   "cell_type": "code",
   "execution_count": null,
   "metadata": {},
   "outputs": [],
   "source": [
    "\n",
    "\n",
    "\n"
   ]
  },
  {
   "cell_type": "code",
   "execution_count": 44,
   "metadata": {},
   "outputs": [
    {
     "name": "stdout",
     "output_type": "stream",
     "text": [
      "('ENOUGH_SIGNATURES_COLLECTED', 9, 0)\n",
      "('STATEFUL_VALIDATION_SUCCESS', 3, 0)\n",
      "('COMMITTED', 5, 0)\n"
     ]
    },
    {
     "data": {
      "text/plain": [
       "payload {\n",
       "  reduced_payload {\n",
       "    commands {\n",
       "      create_domain {\n",
       "        domain_id: \"chain\"\n",
       "        default_role: \"admin\"\n",
       "      }\n",
       "    }\n",
       "    creator_account_id: \"admin@test\"\n",
       "    created_time: 1646282308414\n",
       "    quorum: 1\n",
       "  }\n",
       "}\n",
       "signatures {\n",
       "  public_key: \"313a07e6384776ed95447710d15e59148473ccfc052a681317a72a69f2a49910\"\n",
       "  signature: \"d4c2b1781ab5daff663f6945a22d65eb0edb5602afb0371b5419e307f64a1ca8c1675a28d4b22ccc625f9918bc7e12f1ba0a50885dcf4c55b14ca8d97d208105\"\n",
       "}"
      ]
     },
     "execution_count": 44,
     "metadata": {},
     "output_type": "execute_result"
    }
   ],
   "source": []
  },
  {
   "cell_type": "code",
   "execution_count": 45,
   "metadata": {},
   "outputs": [
    {
     "name": "stdout",
     "output_type": "stream",
     "text": [
      "transactions_response {\n",
      "}\n",
      "query_hash: \"75a24314fa581820ab11330cc91d4cd9a6e4dd9a7d59ef8d42614ccc804fd3ce\"\n",
      "\n"
     ]
    }
   ],
   "source": [
    "def query_pending_tx():\n",
    "    tx = admin.query(\"GetPendingTransactions\")\n",
    "    IrohaCrypto.sign_query(tx, \"f101537e319568c765b2cc89698325604991dca57b9716b58016b253506cab70\")\n",
    "    response = net.send_query(tx)\n",
    "    print(response)\n",
    "query_pending_tx()"
   ]
  },
  {
   "cell_type": "code",
   "execution_count": null,
   "metadata": {},
   "outputs": [],
   "source": [
    "def remove_peer():\n",
    "    tx = admin.transaction([admin.command(\"RemovePeer\", public_key=\"2da10813a07da65746f86f8de3ab2640c87c8cc1af11321f37320561535e8317\")])\n",
    "    IrohaCrypto.sign_transaction(tx, \"f101537e319568c765b2cc89698325604991dca57b9716b58016b253506cab70\")\n",
    "    net.send_tx(tx)\n",
    "    for status in net.tx_status_stream(tx):\n",
    "        print(status)\n",
    "remove_peer()\n",
    "    "
   ]
  },
  {
   "cell_type": "code",
   "execution_count": null,
   "metadata": {},
   "outputs": [],
   "source": []
  }
 ],
 "metadata": {
  "interpreter": {
   "hash": "aee8b7b246df8f9039afb4144a1f6fd8d2ca17a180786b69acc140d282b71a49"
  },
  "kernelspec": {
   "display_name": "Python 3.8.5 64-bit",
   "language": "python",
   "name": "python3"
  },
  "language_info": {
   "codemirror_mode": {
    "name": "ipython",
    "version": 3
   },
   "file_extension": ".py",
   "mimetype": "text/x-python",
   "name": "python",
   "nbconvert_exporter": "python",
   "pygments_lexer": "ipython3",
   "version": "3.8.5"
  },
  "orig_nbformat": 4
 },
 "nbformat": 4,
 "nbformat_minor": 2
}
